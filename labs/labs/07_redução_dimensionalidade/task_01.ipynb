{
 "cells": [
  {
   "cell_type": "code",
   "execution_count": null,
   "metadata": {},
   "outputs": [],
   "source": [
    "import numpy as np\n",
    "import pandas as pd\n",
    "import matplotlib\n",
    "import matplotlib.pyplot as plt\n",
    "\n",
    "RANDOM_SEED = 42\n",
    "np.random.seed(RANDOM_SEED)"
   ]
  },
  {
   "cell_type": "markdown",
   "metadata": {},
   "source": [
    "# Análise de componentes principais"
   ]
  },
  {
   "cell_type": "code",
   "execution_count": null,
   "metadata": {},
   "outputs": [],
   "source": [
    "from sklearn.datasets import fetch_openml\n",
    "\n",
    "mnist = fetch_openml('mnist_784', version=1)\n",
    "mnist.target = mnist.target.astype(np.int64)\n",
    "\n",
    "X = mnist['data']\n",
    "y = mnist['target']"
   ]
  },
  {
   "cell_type": "code",
   "execution_count": null,
   "metadata": {},
   "outputs": [],
   "source": [
    "X_train = X[:60000].astype('float64').values\n",
    "y_train = y[:60000]\n",
    "\n",
    "X_test = X[60000:].astype('float64').values\n",
    "y_test = y[60000:]"
   ]
  },
  {
   "cell_type": "code",
   "execution_count": null,
   "metadata": {},
   "outputs": [],
   "source": [
    "plt.figure(figsize=(12, 12))\n",
    "for i in range(9):\n",
    "    plt.subplot(3, 3, i + 1)\n",
    "    plt.imshow(\n",
    "        X_train[6000 * i, :].reshape(28, 28),\n",
    "        cmap=matplotlib.cm.binary,\n",
    "        interpolation='nearest',\n",
    "    )\n",
    "plt.show()"
   ]
  },
  {
   "cell_type": "markdown",
   "metadata": {},
   "source": [
    "imagem media"
   ]
  },
  {
   "cell_type": "code",
   "execution_count": null,
   "metadata": {},
   "outputs": [],
   "source": [
    "X_train.shape"
   ]
  },
  {
   "cell_type": "code",
   "execution_count": null,
   "metadata": {},
   "outputs": [],
   "source": [
    "x0 = X_train.mean(axis=0)\n",
    "plt.imshow(x0.reshape(28, 28),\n",
    "           cmap=matplotlib.cm.binary,\n",
    "           interpolation='nearest')\n",
    "plt.show()"
   ]
  },
  {
   "cell_type": "markdown",
   "metadata": {},
   "source": [
    "Removendo a média"
   ]
  },
  {
   "cell_type": "code",
   "execution_count": null,
   "metadata": {},
   "outputs": [],
   "source": [
    "X_train_residual = X_train.copy()\n",
    "for i in range(X_train_residual.shape[0]):\n",
    "    X_train_residual[i, :] -= x0\n",
    "\n",
    "plt.figure(figsize=(12, 12))\n",
    "for i in range(9):\n",
    "    plt.subplot(3, 3, i + 1)\n",
    "    plt.imshow(X_train_residual[6000 * i, :].reshape(28, 28),\n",
    "               cmap=matplotlib.cm.binary,\n",
    "               interpolation='nearest')\n",
    "plt.show()"
   ]
  },
  {
   "cell_type": "markdown",
   "metadata": {},
   "source": [
    "Usando SVD para obter as componentes principais:"
   ]
  },
  {
   "cell_type": "code",
   "execution_count": null,
   "metadata": {},
   "outputs": [],
   "source": [
    "X_train_residual.shape"
   ]
  },
  {
   "cell_type": "code",
   "execution_count": null,
   "metadata": {},
   "outputs": [],
   "source": [
    "U, s, Vt = np.linalg.svd(X_train_residual[::10, :])"
   ]
  },
  {
   "cell_type": "code",
   "execution_count": null,
   "metadata": {},
   "outputs": [],
   "source": [
    "plt.plot(s)"
   ]
  },
  {
   "cell_type": "code",
   "execution_count": null,
   "metadata": {},
   "outputs": [],
   "source": [
    "s.shape"
   ]
  },
  {
   "cell_type": "code",
   "execution_count": null,
   "metadata": {},
   "outputs": [],
   "source": [
    "print(s[:10])"
   ]
  },
  {
   "cell_type": "code",
   "execution_count": null,
   "metadata": {},
   "outputs": [],
   "source": [
    "plt.figure(figsize=(12, 12))\n",
    "for i in range(16):\n",
    "    plt.subplot(4, 4, i + 1)\n",
    "    aux = Vt[i, :] / max(Vt[i, :])\n",
    "    plt.imshow(aux.reshape(28, 28),\n",
    "               cmap=matplotlib.cm.binary,\n",
    "               interpolation='nearest')\n",
    "plt.show()"
   ]
  },
  {
   "cell_type": "code",
   "execution_count": null,
   "metadata": {},
   "outputs": [],
   "source": [
    "v = Vt[0, :]\n",
    "v.dot(v)"
   ]
  },
  {
   "cell_type": "markdown",
   "metadata": {},
   "source": [
    "Removendo a média e a primeira componente:"
   ]
  },
  {
   "cell_type": "code",
   "execution_count": null,
   "metadata": {},
   "outputs": [],
   "source": [
    "v0 = Vt[0, :]\n",
    "\n",
    "X_train_residual = X_train.copy()\n",
    "\n",
    "for i in range(X_train_residual.shape[0]):\n",
    "    X_train_residual[i, :] -= x0\n",
    "    X_train_residual[i, :] -= X_train_residual[i, :].dot(v0) * v0\n",
    "\n",
    "plt.figure(figsize=(12, 12))\n",
    "for i in range(9):\n",
    "    plt.subplot(3, 3, i + 1)\n",
    "    plt.imshow(X_train_residual[6000 * i, :].reshape(28, 28),\n",
    "               cmap=matplotlib.cm.binary,\n",
    "               interpolation='nearest')\n",
    "plt.show()"
   ]
  },
  {
   "cell_type": "markdown",
   "metadata": {},
   "source": [
    "Removendo a média, a primeira componente, e a segunda componente:"
   ]
  },
  {
   "cell_type": "code",
   "execution_count": null,
   "metadata": {},
   "outputs": [],
   "source": [
    "v1 = Vt[1, :]\n",
    "\n",
    "X_train_residual = X_train.copy()\n",
    "\n",
    "for i in range(X_train_residual.shape[0]):\n",
    "    X_train_residual[i, :] -= x0\n",
    "    X_train_residual[i, :] -= X_train_residual[i, :].dot(v0) * v0\n",
    "    X_train_residual[i, :] -= X_train_residual[i, :].dot(v1) * v1\n",
    "\n",
    "plt.figure(figsize=(12, 12))\n",
    "for i in range(9):\n",
    "    plt.subplot(3, 3, i + 1)\n",
    "    plt.imshow(X_train_residual[6000 * i, :].reshape(28, 28),\n",
    "               cmap=matplotlib.cm.binary,\n",
    "               interpolation='nearest')\n",
    "plt.show()"
   ]
  },
  {
   "cell_type": "markdown",
   "metadata": {},
   "source": [
    "Removendo a média e as 150 primeiras componentes (pode demorar alguns minutos):"
   ]
  },
  {
   "cell_type": "code",
   "execution_count": null,
   "metadata": {},
   "outputs": [],
   "source": [
    "%%time\n",
    "X_train_residual = X_train.copy()\n",
    "num_components = 150\n",
    "\n",
    "for i in range(X_train_residual.shape[0]):\n",
    "    X_train_residual[i, :] -= x0\n",
    "    for j in range(num_components):\n",
    "        v = Vt[j, :]\n",
    "        X_train_residual[i, :] -= X_train_residual[i, :].dot(v) * v\n",
    "\n",
    "plt.figure(figsize=(12, 12))\n",
    "for i in range(9):\n",
    "    plt.subplot(3, 3, i + 1)\n",
    "    plt.imshow(X_train_residual[6000 * i, :].reshape(28, 28),\n",
    "               cmap=matplotlib.cm.binary,\n",
    "               interpolation='nearest')\n",
    "plt.show()"
   ]
  },
  {
   "cell_type": "code",
   "execution_count": null,
   "metadata": {},
   "outputs": [],
   "source": [
    "plt.figure(figsize=(12, 12))\n",
    "for i in range(9):\n",
    "    plt.subplot(3, 3, i + 1)\n",
    "    plt.imshow((X_train - X_train_residual)[6000 * i, :].reshape(28, 28),\n",
    "               cmap=matplotlib.cm.binary,\n",
    "               interpolation='nearest')\n",
    "plt.show()"
   ]
  },
  {
   "cell_type": "markdown",
   "metadata": {},
   "source": [
    "**Atividade**\n",
    "\n",
    "Exercício 9 do livro texto"
   ]
  },
  {
   "cell_type": "code",
   "execution_count": null,
   "metadata": {},
   "outputs": [],
   "source": []
  },
  {
   "cell_type": "code",
   "execution_count": null,
   "metadata": {},
   "outputs": [],
   "source": []
  }
 ],
 "metadata": {
  "kernelspec": {
   "display_name": "Python3",
   "language": "python",
   "name": "python3"
  },
  "language_info": {
   "codemirror_mode": {
    "name": "ipython",
    "version": 3
   },
   "file_extension": ".py",
   "mimetype": "text/x-python",
   "name": "python",
   "nbconvert_exporter": "python",
   "pygments_lexer": "ipython3",
   "version": "3.8.12"
  }
 },
 "nbformat": 4,
 "nbformat_minor": 4
}
