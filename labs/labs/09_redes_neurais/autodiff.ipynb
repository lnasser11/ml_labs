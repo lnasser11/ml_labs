{
 "cells": [
  {
   "cell_type": "code",
   "execution_count": 1,
   "metadata": {},
   "outputs": [],
   "source": [
    "import numpy as np"
   ]
  },
  {
   "cell_type": "code",
   "execution_count": 2,
   "metadata": {},
   "outputs": [],
   "source": [
    "class Const:\n",
    "    def __init__(self, value):\n",
    "        self.value = value\n",
    "        \n",
    "    def evaluate(self):\n",
    "        return self.value\n",
    "\n",
    "    def backpropagate(self, gradient):\n",
    "        pass\n",
    "    \n",
    "    def __str__(self):\n",
    "        return str(self.value)\n",
    "\n",
    "class Var:\n",
    "    def __init__(self, name, init_value=0):\n",
    "        self.value = init_value\n",
    "        self.name = name\n",
    "    \n",
    "    def evaluate(self):\n",
    "        self.gradient = 0.0\n",
    "        return self.value\n",
    "    \n",
    "    def backpropagate(self, gradient):\n",
    "        self.gradient += gradient\n",
    "    \n",
    "    def __str__(self):\n",
    "        return self.name\n",
    "\n",
    "class BinaryOperator:\n",
    "    def __init__(self, a, b):\n",
    "        self.a = a\n",
    "        self.b = b\n",
    "\n",
    "class Add(BinaryOperator):\n",
    "    def evaluate(self):\n",
    "        self.value = self.a.evaluate() + self.b.evaluate()\n",
    "        return self.value\n",
    "    \n",
    "    def backpropagate(self, gradient):\n",
    "        self.a.backpropagate(gradient)\n",
    "        self.b.backpropagate(gradient)\n",
    "    \n",
    "    def __str__(self):\n",
    "        return f\"{self.a} + {self.b}\"\n",
    "\n",
    "class Mul(BinaryOperator):\n",
    "    def evaluate(self):\n",
    "        self.value = self.a.evaluate() * self.b.evaluate()\n",
    "        return self.value\n",
    "\n",
    "    def backpropagate(self, gradient):\n",
    "        self.a.backpropagate(gradient * self.b.value)\n",
    "        self.b.backpropagate(gradient * self.a.value)\n",
    "    \n",
    "    def __str__(self):\n",
    "        return f\"({self.a}) * ({self.b})\"\n",
    "\n",
    "class Function:\n",
    "    def __init__(self, a):\n",
    "        self.a = a\n",
    "    \n",
    "class Log(Function):\n",
    "    def evaluate(self):\n",
    "        self.value = np.log(self.a.evaluate())\n",
    "        return self.value\n",
    "    \n",
    "    def backpropagate(self, gradient):\n",
    "        self.a.backpropagate(gradient * 1.0 / self.a.value)\n",
    "        \n",
    "    def __str__(self):\n",
    "        return f\"log({self.a})\"\n",
    "    \n",
    "class Logistic(Function):\n",
    "    def evaluate(self):\n",
    "        self.value = 1.0 / (1.0 + np.exp(-self.a.evaluate()))\n",
    "        return self.value\n",
    "    \n",
    "    def backpropagate(self, gradient):\n",
    "        self.a.backpropagate(gradient * self.value * (1.0 - self.value))\n",
    "        \n",
    "    def __str__(self):\n",
    "        return f\"s({self.a})\""
   ]
  },
  {
   "cell_type": "code",
   "execution_count": 3,
   "metadata": {},
   "outputs": [],
   "source": [
    "alpha = 1\n",
    "\n",
    "w0 = Var('w0', init_value=0.0)\n",
    "w1 = Var('w1', init_value=0.0)\n",
    "b = Var('b', init_value=0.0)\n",
    "\n",
    "Xs = [\n",
    "    [0, 0],\n",
    "    [0, 1],\n",
    "    [1, 0],\n",
    "    [1, 1],\n",
    "]\n",
    "ys = [0, 0, 0, 1]\n",
    "\n",
    "minus = Const(-1)\n",
    "one = Const(1)\n",
    "for epoch in range(10000):\n",
    "    loss = Const(0)\n",
    "    for xval, yval in zip(Xs,ys):\n",
    "        x0 = Const(xval[0])\n",
    "        x1 = Const(xval[1])\n",
    "        y = Const(yval)\n",
    "        y_pred = Logistic(Add(b, Add(Mul(x0, w0), Mul(x1, w1))))\n",
    "        loss = Add(loss, \n",
    "                   Mul(minus, \n",
    "                       Add(Mul(y, Log(y_pred)), \n",
    "                           Mul(Add(one, Mul(minus, y)), \n",
    "                               Log(Add(one, Mul(minus, y_pred))))\n",
    "                          )\n",
    "                      )\n",
    "                  )\n",
    "    loss = Mul(Const(0.25), loss)\n",
    "    loss.evaluate()\n",
    "    loss.backpropagate(1.0)\n",
    "    w0.value -= alpha * w0.gradient\n",
    "    w1.value -= alpha * w1.gradient\n",
    "    b.value -= alpha * b.gradient"
   ]
  },
  {
   "cell_type": "code",
   "execution_count": 4,
   "metadata": {},
   "outputs": [
    {
     "data": {
      "text/plain": [
       "12.074945269923951"
      ]
     },
     "execution_count": 4,
     "metadata": {},
     "output_type": "execute_result"
    }
   ],
   "source": [
    "w0.value"
   ]
  },
  {
   "cell_type": "code",
   "execution_count": 5,
   "metadata": {},
   "outputs": [
    {
     "data": {
      "text/plain": [
       "12.074945269923951"
      ]
     },
     "execution_count": 5,
     "metadata": {},
     "output_type": "execute_result"
    }
   ],
   "source": [
    "w1.value"
   ]
  },
  {
   "cell_type": "code",
   "execution_count": 6,
   "metadata": {},
   "outputs": [
    {
     "data": {
      "text/plain": [
       "-18.281070367299836"
      ]
     },
     "execution_count": 6,
     "metadata": {},
     "output_type": "execute_result"
    }
   ],
   "source": [
    "b.value"
   ]
  },
  {
   "cell_type": "code",
   "execution_count": null,
   "metadata": {},
   "outputs": [],
   "source": []
  },
  {
   "cell_type": "code",
   "execution_count": null,
   "metadata": {},
   "outputs": [],
   "source": []
  }
 ],
 "metadata": {
  "kernelspec": {
   "display_name": "Python3",
   "language": "python",
   "name": "python3"
  },
  "language_info": {
   "codemirror_mode": {
    "name": "ipython",
    "version": 3
   },
   "file_extension": ".py",
   "mimetype": "text/x-python",
   "name": "python",
   "nbconvert_exporter": "python",
   "pygments_lexer": "ipython3",
   "version": "3.8.12"
  }
 },
 "nbformat": 4,
 "nbformat_minor": 4
}
