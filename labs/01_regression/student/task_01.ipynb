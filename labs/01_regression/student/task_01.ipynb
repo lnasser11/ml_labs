{
 "cells": [
  {
   "cell_type": "markdown",
   "metadata": {},
   "source": [
    "# Um projeto de *machine learning*"
   ]
  },
  {
   "cell_type": "markdown",
   "metadata": {},
   "source": [
    "**Objetivos:**\n",
    "\n",
    "- Aprender sobre o processo CRISP-DM;\n",
    "- Aplicar o CRISP-DM a um projeto real de *machine learning*;\n",
    "- Praticar análise exploratória;\n",
    "- Construir *pipelines* de processamento de dados em scikit-learn;\n",
    "- Entender o processo de construção, escolha e avaliação de modelos de *machine learning*;"
   ]
  },
  {
   "cell_type": "markdown",
   "metadata": {},
   "source": [
    "## O processo CRISP-DM\n",
    "\n",
    "CRISP-DM: CRoss-Industry Standard Process for Data Mining\n",
    "\n",
    "***Atividade***: Leia o artigo \"The CRISP-DM Model: The New Blueprint for Data Mining\" (arquivo [`crisp-dm.pdf`](../resources/crisp-dm.pdf)) e responda:"
   ]
  },
  {
   "cell_type": "markdown",
   "metadata": {},
   "source": [
    "1. O CRISP-DM é um processo de gerenciamento de equipes ou de estruturação de projetos?"
   ]
  },
  {
   "cell_type": "markdown",
   "metadata": {},
   "source": []
  },
  {
   "cell_type": "markdown",
   "metadata": {},
   "source": [
    "\n",
    "2. Construa uma explicação do ciclo do CRISP-DM conforme visto na figura abaixo. Preste atenção especial para o fato de que temos setas bidirecionais entre \"Business Understanding\" e \"Data Understanding\", e entre \"Data Preparation\" e \"Modeling\" - porque os autores se deram ao trabalho de fazer isso?\n",
    "\n",
    "![CRISP-DM diagram](../resources/crisp-dm.png)\n",
    "\n",
    "Fonte: Kenneth Jensen, CC BY-SA 3.0 <https://creativecommons.org/licenses/by-sa/3.0>, via Wikimedia Commons. https://commons.wikimedia.org/wiki/File:CRISP-DM_Process_Diagram.png"
   ]
  },
  {
   "cell_type": "markdown",
   "metadata": {},
   "source": []
  },
  {
   "cell_type": "markdown",
   "metadata": {},
   "source": [
    "3. Segundo o artigo, qual a porcentagem do tempo que se gasta, tipicamente, em cada uma das fases?"
   ]
  },
  {
   "cell_type": "markdown",
   "metadata": {},
   "source": []
  },
  {
   "cell_type": "markdown",
   "metadata": {},
   "source": [
    "## *California Housing*"
   ]
  },
  {
   "cell_type": "markdown",
   "metadata": {},
   "source": [
    "Vamos trabalhar com um *dataset* de imóveis residenciais da Califórnia nos anos 1990."
   ]
  },
  {
   "cell_type": "markdown",
   "metadata": {},
   "source": [
    "### Obtendo os dados"
   ]
  },
  {
   "cell_type": "code",
   "execution_count": 3,
   "metadata": {},
   "outputs": [
    {
     "name": "stdout",
     "output_type": "stream",
     "text": [
      "Saving data to c:\\Users\\lucca\\OneDrive - Insper\\Documentos\\Insper\\6° Semestre\\Machine Learning\\ml_labs\\labs\\datasets\\housing\n"
     ]
    }
   ],
   "source": [
    "from pathlib import Path\n",
    "\n",
    "DATA_DIR = Path.cwd().parents[1] / 'datasets' / 'housing'\n",
    "print(f'Saving data to {DATA_DIR}')"
   ]
  },
  {
   "cell_type": "code",
   "execution_count": 4,
   "metadata": {},
   "outputs": [],
   "source": [
    "import tarfile\n",
    "from urllib import request\n",
    "\n",
    "\n",
    "def fetch_housing_data(data_dir: Path) -> None:\n",
    "    '''Downloads the California Housing Prices dataset.\n",
    "\n",
    "    Downloads the California Housing Prices dataset from Aurelien Geron's\n",
    "    GitHub repository and saves it to the specified directory.\n",
    "\n",
    "    Args:\n",
    "        data_dir: The directory to which the dataset will be saved.\n",
    "\n",
    "    Returns:\n",
    "        None\n",
    "    '''\n",
    "    if not data_dir.exists():\n",
    "        data_dir.mkdir(parents=True)\n",
    "\n",
    "    # Fetch the housing data.\n",
    "    HOUSING_URL = ('https://raw.githubusercontent.com/ageron/handson-ml2/'\n",
    "                   'master/datasets/housing/housing.tgz')\n",
    "    tgz_path = data_dir / 'housing.tgz'\n",
    "    request.urlretrieve(HOUSING_URL, tgz_path)\n",
    "\n",
    "    # Extract the housing data.\n",
    "    with tarfile.open(tgz_path) as housing_tgz:\n",
    "        housing_tgz.extractall(path=data_dir, filter='data')"
   ]
  },
  {
   "cell_type": "code",
   "execution_count": 5,
   "metadata": {},
   "outputs": [],
   "source": [
    "fetch_housing_data(DATA_DIR)"
   ]
  },
  {
   "cell_type": "code",
   "execution_count": 6,
   "metadata": {},
   "outputs": [],
   "source": [
    "import pandas as pd\n",
    "\n",
    "\n",
    "def load_housing_data(data_dir: Path) -> pd.DataFrame:\n",
    "    '''Loads the California Housing Prices dataset.\n",
    "\n",
    "    Loads the California Housing Prices dataset from the specified directory.\n",
    "\n",
    "    Args:\n",
    "        data_dir: The directory from which the dataset will be loaded.\n",
    "\n",
    "    Returns:\n",
    "        A pandas DataFrame containing the California Housing Prices dataset.\n",
    "    '''\n",
    "    csv_path = data_dir / 'housing.csv'\n",
    "    df = pd.read_csv(csv_path)\n",
    "    return df"
   ]
  },
  {
   "cell_type": "code",
   "execution_count": 7,
   "metadata": {},
   "outputs": [
    {
     "name": "stdout",
     "output_type": "stream",
     "text": [
      "O dataset tem 20640 linhas e 10 colunas.\n",
      "As colunas são:\n",
      "- \"longitude\"\n",
      "- \"latitude\"\n",
      "- \"housing_median_age\"\n",
      "- \"total_rooms\"\n",
      "- \"total_bedrooms\"\n",
      "- \"population\"\n",
      "- \"households\"\n",
      "- \"median_income\"\n",
      "- \"median_house_value\"\n",
      "- \"ocean_proximity\"\n"
     ]
    }
   ],
   "source": [
    "data = load_housing_data(DATA_DIR)\n",
    "\n",
    "print(f'O dataset tem {data.shape[0]} linhas e {data.shape[1]} colunas.')\n",
    "print('As colunas são:')\n",
    "for column_name in data.columns:\n",
    "    print(f'- \"{column_name}\"')\n"
   ]
  },
  {
   "cell_type": "markdown",
   "metadata": {},
   "source": [
    "### Entendimento do negócio"
   ]
  },
  {
   "cell_type": "markdown",
   "metadata": {},
   "source": [
    "Esses dados representam informações censitárias acerca de *distritos* residenciais no estado da California na década de 1990.\n",
    "\n",
    "Atividade: Baseado nos nomes das colunas, você conseguiria escrever o significado de cada coluna?"
   ]
  },
  {
   "cell_type": "markdown",
   "metadata": {},
   "source": [
    "Resposta: não muito bem.\n",
    "\n",
    "Consultando o livro-texto da disciplina, capítulo 2, aprendemos que esses dados se referem aos distritos (conforme escrito no enunciado) e, portanto, são um pouco estranhos. Provavelmente significam, para cada distrito, o seguinte:\n",
    "\n",
    "- `longitude`: a longitude do centro;\n",
    "- `latitude`: a latitude do centro;\n",
    "- `housing_median_age`: a idade mediana dos imóveis;\n",
    "- `total_rooms`: essa é estranha, é a quantidade **total** de cômodos no distrito. Ou seja, a soma do número de cômodos de todos os imóveis;\n",
    "- `total_bedrooms`: a soma do número de *quartos* de todos os imóveis;\n",
    "- `population`: quantas pessoas moram no distrito;\n",
    "- `households`: número de imóveis;\n",
    "- `median_income`: renda mediana dos moradores do distrito;\n",
    "- `median_house_value`: o valor mediano dos imóveis do distrito. Esta é a nossa variável a ser predita;\n",
    "- `ocean_proximity`: só pelo nome é difícil saber a natureza exata desta variável. Trata-se de uma variável *categórica* indicando o \"status\" do distrito em relação à sua proximidade com o oceano Pacífico."
   ]
  },
  {
   "cell_type": "markdown",
   "metadata": {},
   "source": [
    "Atividade: Escreva o objetivo de negócios deste projeto"
   ]
  },
  {
   "cell_type": "markdown",
   "metadata": {},
   "source": [
    "Prever o valor mediano de um distrito residencial da Califórnia "
   ]
  },
  {
   "cell_type": "markdown",
   "metadata": {},
   "source": [
    "### Análise exploratória"
   ]
  },
  {
   "cell_type": "markdown",
   "metadata": {},
   "source": [
    "O objetivo da análise exploratória é \"conhecer\" os dados:\n",
    "\n",
    "- Qual a distribuição de cada *feature*?\n",
    "\n",
    "- Qual a natureza de cada *feature*?\n",
    "\n",
    "    - Unidade de medida\n",
    "\n",
    "    - Se é estritamente positiva ou se pode ser positiva ou negativa\n",
    "\n",
    "    - Para que serve?\n",
    "\n",
    "- Quais e como são as distribuições conjuntas de *features*? Em particular, como as *features* se relacionam com o *target*?\n",
    "\n",
    "- Existem anomalias e erros?\n",
    "\n",
    "    - Dados faltantes\n",
    "\n",
    "    - \"Saturação\" de dados\n",
    "\n",
    "    - Outliers\n",
    "\n",
    "    - Desbalanceamento de classes\n",
    "\n",
    "    - Dados duplicados"
   ]
  },
  {
   "cell_type": "markdown",
   "metadata": {},
   "source": [
    "#### Análise exploratória: antes ou depois da separação treino-teste?"
   ]
  },
  {
   "cell_type": "markdown",
   "metadata": {},
   "source": [
    "Durante o processo de modelagem vamos dividir os dados em dois conjuntos: \"dados de treino\" e \"dados de teste\". Devemos treinar nossos modelos com o conjunto de dados de treino, e avaliar seu desempenho no conjunto de teste, para que não nos enganemos com desempenhos preditivos excelentes no conjunto de treino e que não se reproduzem no conjunto de teste!\n",
    "\n",
    "Atividade: Como se chama o fenômeno no qual temos um excelente desempenho no conjunto de treino e um desempenho bem menor no conjunto de teste?"
   ]
  },
  {
   "cell_type": "markdown",
   "metadata": {},
   "source": [
    "Overfitting"
   ]
  },
  {
   "cell_type": "markdown",
   "metadata": {},
   "source": [
    "Quando devemos fazer a análise exploratória?\n",
    "\n",
    "- Antes da separação treino-teste, ou seja, no conjunto de dados completo?\n",
    "\n",
    "- Depois da separação treino-teste, ou seja, usando apenas o conjunto de dados de treino?\n",
    "\n",
    "Esta é uma pergunta difícil de responder.\n",
    "\n",
    "- Analisar antes da separação:\n",
    "\n",
    "    - Vantagens: todo o conjunto de dados de exemplo que foi coletado está á nossa disposição para estudo, o que torna mais fácil a detecção de anomalias raras, como outliers ou a ocorrência de categorias raras em *features* categóricas.\n",
    "\n",
    "    - Desvantagens: corremos o risco de \"data snooping\" (\"bisbilhotar\" os dados), onde acabamos por aprender algo sobre os dados que pode impactar de modo \"injusto\" nossa modelagem - é como se estivéssemos \"overfittando\" sem querer!\n",
    "\n",
    "- Analisar depois da separação:\n",
    "\n",
    "    - Vantagens: reduz o risco de \"data snooping\"\n",
    "\n",
    "    - Desvantagens: podemos não perceber anomalias e erros raros nos dados, que podem impactar nossa modelagem de uma forma que é difícil de identificar.\n",
    "\n",
    "O que fazer então? Em geral, queremos balancear o risco de \"data snooping\" com o risco de não entender os detalhes mais finos e raros dos dados. Portando a recomendação é fazer análises exploratórias antes e depois da separação, com objetivos diferentes:\n",
    "\n",
    "- Análise exploratória antes da separação: faça apenas análises globais e simples, para checar a sanidade dos dados e realizar filtragens simples. Evite análises que conectem as *features* com o *target*.\n",
    "\n",
    "- Análise exploratória depois da separação: você está livre para explorar o que quiser."
   ]
  },
  {
   "cell_type": "markdown",
   "metadata": {},
   "source": [
    "Vamos fazer uma primeira análise dos dados, apenas para checar a integridade destes."
   ]
  },
  {
   "cell_type": "code",
   "execution_count": 8,
   "metadata": {},
   "outputs": [
    {
     "data": {
      "text/html": [
       "<div>\n",
       "<style scoped>\n",
       "    .dataframe tbody tr th:only-of-type {\n",
       "        vertical-align: middle;\n",
       "    }\n",
       "\n",
       "    .dataframe tbody tr th {\n",
       "        vertical-align: top;\n",
       "    }\n",
       "\n",
       "    .dataframe thead th {\n",
       "        text-align: right;\n",
       "    }\n",
       "</style>\n",
       "<table border=\"1\" class=\"dataframe\">\n",
       "  <thead>\n",
       "    <tr style=\"text-align: right;\">\n",
       "      <th></th>\n",
       "      <th>longitude</th>\n",
       "      <th>latitude</th>\n",
       "      <th>housing_median_age</th>\n",
       "      <th>total_rooms</th>\n",
       "      <th>total_bedrooms</th>\n",
       "      <th>population</th>\n",
       "      <th>households</th>\n",
       "      <th>median_income</th>\n",
       "      <th>median_house_value</th>\n",
       "      <th>ocean_proximity</th>\n",
       "    </tr>\n",
       "  </thead>\n",
       "  <tbody>\n",
       "    <tr>\n",
       "      <th>0</th>\n",
       "      <td>-122.23</td>\n",
       "      <td>37.88</td>\n",
       "      <td>41.0</td>\n",
       "      <td>880.0</td>\n",
       "      <td>129.0</td>\n",
       "      <td>322.0</td>\n",
       "      <td>126.0</td>\n",
       "      <td>8.3252</td>\n",
       "      <td>452600.0</td>\n",
       "      <td>NEAR BAY</td>\n",
       "    </tr>\n",
       "    <tr>\n",
       "      <th>1</th>\n",
       "      <td>-122.22</td>\n",
       "      <td>37.86</td>\n",
       "      <td>21.0</td>\n",
       "      <td>7099.0</td>\n",
       "      <td>1106.0</td>\n",
       "      <td>2401.0</td>\n",
       "      <td>1138.0</td>\n",
       "      <td>8.3014</td>\n",
       "      <td>358500.0</td>\n",
       "      <td>NEAR BAY</td>\n",
       "    </tr>\n",
       "    <tr>\n",
       "      <th>2</th>\n",
       "      <td>-122.24</td>\n",
       "      <td>37.85</td>\n",
       "      <td>52.0</td>\n",
       "      <td>1467.0</td>\n",
       "      <td>190.0</td>\n",
       "      <td>496.0</td>\n",
       "      <td>177.0</td>\n",
       "      <td>7.2574</td>\n",
       "      <td>352100.0</td>\n",
       "      <td>NEAR BAY</td>\n",
       "    </tr>\n",
       "    <tr>\n",
       "      <th>3</th>\n",
       "      <td>-122.25</td>\n",
       "      <td>37.85</td>\n",
       "      <td>52.0</td>\n",
       "      <td>1274.0</td>\n",
       "      <td>235.0</td>\n",
       "      <td>558.0</td>\n",
       "      <td>219.0</td>\n",
       "      <td>5.6431</td>\n",
       "      <td>341300.0</td>\n",
       "      <td>NEAR BAY</td>\n",
       "    </tr>\n",
       "    <tr>\n",
       "      <th>4</th>\n",
       "      <td>-122.25</td>\n",
       "      <td>37.85</td>\n",
       "      <td>52.0</td>\n",
       "      <td>1627.0</td>\n",
       "      <td>280.0</td>\n",
       "      <td>565.0</td>\n",
       "      <td>259.0</td>\n",
       "      <td>3.8462</td>\n",
       "      <td>342200.0</td>\n",
       "      <td>NEAR BAY</td>\n",
       "    </tr>\n",
       "  </tbody>\n",
       "</table>\n",
       "</div>"
      ],
      "text/plain": [
       "   longitude  latitude  housing_median_age  total_rooms  total_bedrooms  \\\n",
       "0    -122.23     37.88                41.0        880.0           129.0   \n",
       "1    -122.22     37.86                21.0       7099.0          1106.0   \n",
       "2    -122.24     37.85                52.0       1467.0           190.0   \n",
       "3    -122.25     37.85                52.0       1274.0           235.0   \n",
       "4    -122.25     37.85                52.0       1627.0           280.0   \n",
       "\n",
       "   population  households  median_income  median_house_value ocean_proximity  \n",
       "0       322.0       126.0         8.3252            452600.0        NEAR BAY  \n",
       "1      2401.0      1138.0         8.3014            358500.0        NEAR BAY  \n",
       "2       496.0       177.0         7.2574            352100.0        NEAR BAY  \n",
       "3       558.0       219.0         5.6431            341300.0        NEAR BAY  \n",
       "4       565.0       259.0         3.8462            342200.0        NEAR BAY  "
      ]
     },
     "execution_count": 8,
     "metadata": {},
     "output_type": "execute_result"
    }
   ],
   "source": [
    "data.head(n=5)"
   ]
  },
  {
   "cell_type": "code",
   "execution_count": 9,
   "metadata": {},
   "outputs": [
    {
     "name": "stdout",
     "output_type": "stream",
     "text": [
      "<class 'pandas.core.frame.DataFrame'>\n",
      "RangeIndex: 20640 entries, 0 to 20639\n",
      "Data columns (total 10 columns):\n",
      " #   Column              Non-Null Count  Dtype  \n",
      "---  ------              --------------  -----  \n",
      " 0   longitude           20640 non-null  float64\n",
      " 1   latitude            20640 non-null  float64\n",
      " 2   housing_median_age  20640 non-null  float64\n",
      " 3   total_rooms         20640 non-null  float64\n",
      " 4   total_bedrooms      20433 non-null  float64\n",
      " 5   population          20640 non-null  float64\n",
      " 6   households          20640 non-null  float64\n",
      " 7   median_income       20640 non-null  float64\n",
      " 8   median_house_value  20640 non-null  float64\n",
      " 9   ocean_proximity     20640 non-null  object \n",
      "dtypes: float64(9), object(1)\n",
      "memory usage: 1.6+ MB\n"
     ]
    }
   ],
   "source": [
    "data.info()"
   ]
  },
  {
   "cell_type": "markdown",
   "metadata": {},
   "source": [
    "Atividade: Acompanhe o desenvolvimento da análise exploratória a ser feito pelo professor."
   ]
  },
  {
   "cell_type": "code",
   "execution_count": 10,
   "metadata": {},
   "outputs": [],
   "source": [
    "# separação treino-teste (sklearn.model_selection.train_test_split)\n",
    "# implementar\n",
    "\n",
    "# analise exploratoria pós separação treino-teste\n",
    "# implementar\n",
    "\n",
    "# filtragem (pandas)\n",
    "# implementar\n",
    "\n",
    "# pipeline de pré-processamento (sklearn.pipeline.Pipeline)\n",
    "# estudar cap.2 do livro"
   ]
  },
  {
   "cell_type": "code",
   "execution_count": 11,
   "metadata": {},
   "outputs": [
    {
     "data": {
      "text/plain": [
       "[       longitude  latitude  housing_median_age  total_rooms  total_bedrooms  \\\n",
       " 14196    -117.03     32.71                33.0       3126.0           627.0   \n",
       " 8267     -118.16     33.77                49.0       3382.0           787.0   \n",
       " 17445    -120.48     34.66                 4.0       1897.0           331.0   \n",
       " 14265    -117.11     32.69                36.0       1421.0           367.0   \n",
       " 2271     -119.80     36.78                43.0       2382.0           431.0   \n",
       " ...          ...       ...                 ...          ...             ...   \n",
       " 11284    -117.96     33.78                35.0       1330.0           201.0   \n",
       " 11964    -117.43     34.02                33.0       3084.0           570.0   \n",
       " 5390     -118.38     34.03                36.0       2101.0           569.0   \n",
       " 860      -121.96     37.58                15.0       3575.0           597.0   \n",
       " 15795    -122.42     37.77                52.0       4226.0          1315.0   \n",
       " \n",
       "        population  households  median_income  median_house_value  \\\n",
       " 14196      2300.0       623.0         3.2596            103000.0   \n",
       " 8267       1314.0       756.0         3.8125            382100.0   \n",
       " 17445       915.0       336.0         4.1563            172600.0   \n",
       " 14265      1418.0       355.0         1.9425             93400.0   \n",
       " 2271        874.0       380.0         3.5542             96500.0   \n",
       " ...           ...         ...            ...                 ...   \n",
       " 11284       658.0       217.0         6.3700            229200.0   \n",
       " 11964      1753.0       449.0         3.0500             97800.0   \n",
       " 5390       1756.0       527.0         2.9344            222100.0   \n",
       " 860        1777.0       559.0         5.7192            283500.0   \n",
       " 15795      2619.0      1242.0         2.5755            325000.0   \n",
       " \n",
       "       ocean_proximity  \n",
       " 14196      NEAR OCEAN  \n",
       " 8267       NEAR OCEAN  \n",
       " 17445      NEAR OCEAN  \n",
       " 14265      NEAR OCEAN  \n",
       " 2271           INLAND  \n",
       " ...               ...  \n",
       " 11284       <1H OCEAN  \n",
       " 11964          INLAND  \n",
       " 5390        <1H OCEAN  \n",
       " 860         <1H OCEAN  \n",
       " 15795        NEAR BAY  \n",
       " \n",
       " [16512 rows x 10 columns],\n",
       "        longitude  latitude  housing_median_age  total_rooms  total_bedrooms  \\\n",
       " 20046    -119.01     36.06                25.0       1505.0             NaN   \n",
       " 3024     -119.46     35.14                30.0       2943.0             NaN   \n",
       " 15663    -122.44     37.80                52.0       3830.0             NaN   \n",
       " 20484    -118.72     34.28                17.0       3051.0             NaN   \n",
       " 9814     -121.93     36.62                34.0       2351.0             NaN   \n",
       " ...          ...       ...                 ...          ...             ...   \n",
       " 15362    -117.22     33.36                16.0       3165.0           482.0   \n",
       " 16623    -120.83     35.36                28.0       4323.0           886.0   \n",
       " 18086    -122.05     37.31                25.0       4111.0           538.0   \n",
       " 2144     -119.76     36.77                36.0       2507.0           466.0   \n",
       " 3665     -118.37     34.22                17.0       1787.0           463.0   \n",
       " \n",
       "        population  households  median_income  median_house_value  \\\n",
       " 20046      1392.0       359.0         1.6812             47700.0   \n",
       " 3024       1565.0       584.0         2.5313             45800.0   \n",
       " 15663      1310.0       963.0         3.4801            500001.0   \n",
       " 20484      1705.0       495.0         5.7376            218600.0   \n",
       " 9814       1063.0       428.0         3.7250            278000.0   \n",
       " ...           ...         ...            ...                 ...   \n",
       " 15362      1351.0       452.0         4.6050            263300.0   \n",
       " 16623      1650.0       705.0         2.7266            266800.0   \n",
       " 18086      1585.0       568.0         9.2298            500001.0   \n",
       " 2144       1227.0       474.0         2.7850             72300.0   \n",
       " 3665       1671.0       448.0         3.5521            151500.0   \n",
       " \n",
       "       ocean_proximity  \n",
       " 20046          INLAND  \n",
       " 3024           INLAND  \n",
       " 15663        NEAR BAY  \n",
       " 20484       <1H OCEAN  \n",
       " 9814       NEAR OCEAN  \n",
       " ...               ...  \n",
       " 15362       <1H OCEAN  \n",
       " 16623      NEAR OCEAN  \n",
       " 18086       <1H OCEAN  \n",
       " 2144           INLAND  \n",
       " 3665        <1H OCEAN  \n",
       " \n",
       " [4128 rows x 10 columns]]"
      ]
     },
     "execution_count": 11,
     "metadata": {},
     "output_type": "execute_result"
    }
   ],
   "source": [
    "# Separação treino-teste\n",
    "import sklearn\n",
    "\n",
    "sklearn.model_selection.train_test_split(data, test_size=0.2, random_state=42)"
   ]
  },
  {
   "cell_type": "code",
   "execution_count": 12,
   "metadata": {},
   "outputs": [],
   "source": [
    "#analise exploratoria pós separação treino-teste\n",
    "\n"
   ]
  },
  {
   "cell_type": "code",
   "execution_count": 13,
   "metadata": {},
   "outputs": [
    {
     "data": {
      "text/plain": [
       "array([[-1.32783522,  1.05254828,  0.98214266, ..., -0.97703285,\n",
       "         2.34476576,  2.12963148],\n",
       "       [-1.32284391,  1.04318455, -0.60701891, ...,  1.66996103,\n",
       "         2.33223796,  1.31415614],\n",
       "       [-1.33282653,  1.03850269,  1.85618152, ..., -0.84363692,\n",
       "         1.7826994 ,  1.25869341],\n",
       "       ...,\n",
       "       [-0.8237132 ,  1.77823747, -0.92485123, ..., -0.17404163,\n",
       "        -1.14259331, -0.99274649],\n",
       "       [-0.87362627,  1.77823747, -0.84539315, ..., -0.39375258,\n",
       "        -1.05458292, -1.05860847],\n",
       "       [-0.83369581,  1.75014627, -1.00430931, ...,  0.07967221,\n",
       "        -0.78012947, -1.01787803]], shape=(20640, 9))"
      ]
     },
     "execution_count": 13,
     "metadata": {},
     "output_type": "execute_result"
    }
   ],
   "source": [
    "# filtragem (pandas)\n",
    "data.query('median_house_value < 500000')\n",
    "# explique como funciona a filtragem acima com o pandas\n",
    "# a função query do pandas permite filtrar o dataframe com base em uma expressão booleana\n",
    "# no caso acima, estamos filtrando as linhas onde a coluna median_house_value é menor que 500000\n",
    "# e pq fazemos isso? para remover outliers, por exemplo\n",
    "\n",
    "# pipeline de pré-processamento (sklearn.pipeline.Pipeline)\n",
    "from sklearn.pipeline import Pipeline\n",
    "from sklearn.preprocessing import StandardScaler\n",
    "from sklearn.impute import SimpleImputer\n",
    "\n",
    "num_pipeline = Pipeline([\n",
    "    ('imputer', SimpleImputer(strategy='median')),\n",
    "    ('std_scaler', StandardScaler())\n",
    "])\n",
    "\n",
    "data_num = data.drop('ocean_proximity', axis=1)\n",
    "\n",
    "num_pipeline.fit(data_num)\n",
    "data_num_tr = num_pipeline.transform(data_num)\n",
    "\n",
    "data_num_tr\n",
    "\n",
    "# explique o que é um pipeline de pré-processamento\n",
    "# um pipeline de pré-processamento é uma sequência de transformações que serão aplicadas aos dados\n",
    "# antes de serem usados em um modelo de machine learning\n",
    "# ele é útil para automatizar o pré-processamento dos dados, garantindo que as mesmas transformações\n",
    "# sejam aplicadas aos dados de treino e teste\n",
    "\n",
    "# explique o que foi feito em cada parte do pipeline acima\n",
    "# 1. SimpleImputer: preenche valores faltantes com a mediana\n",
    "# 2. StandardScaler: padroniza os dados para que tenham média 0 e variância 1\n"
   ]
  },
  {
   "cell_type": "markdown",
   "metadata": {},
   "source": [
    "### Filtragem"
   ]
  },
  {
   "cell_type": "markdown",
   "metadata": {},
   "source": [
    "Atividade: Baseado no que aprendemos na análise exploratória, escreva um código para filtrar o *dataset*. Não modifique as colunas, apenas aceite ou rejeite cada linha de dados."
   ]
  },
  {
   "cell_type": "code",
   "execution_count": null,
   "metadata": {},
   "outputs": [],
   "source": []
  },
  {
   "cell_type": "markdown",
   "metadata": {},
   "source": [
    "Salve o resultado do processamento na forma de um arquivo \"Parquet\": https://pandas.pydata.org/docs/reference/api/pandas.DataFrame.to_parquet.html"
   ]
  },
  {
   "cell_type": "code",
   "execution_count": null,
   "metadata": {},
   "outputs": [],
   "source": []
  },
  {
   "cell_type": "markdown",
   "metadata": {},
   "source": [
    "## Processamento dos dados e Pipelines"
   ]
  },
  {
   "cell_type": "markdown",
   "metadata": {},
   "source": []
  },
  {
   "cell_type": "markdown",
   "metadata": {},
   "source": [
    "## Escolha de modelos"
   ]
  },
  {
   "cell_type": "markdown",
   "metadata": {},
   "source": []
  },
  {
   "cell_type": "markdown",
   "metadata": {},
   "source": [
    "## Avaliação"
   ]
  },
  {
   "cell_type": "markdown",
   "metadata": {},
   "source": []
  }
 ],
 "metadata": {
  "kernelspec": {
   "display_name": "ml",
   "language": "python",
   "name": "python3"
  },
  "language_info": {
   "codemirror_mode": {
    "name": "ipython",
    "version": 3
   },
   "file_extension": ".py",
   "mimetype": "text/x-python",
   "name": "python",
   "nbconvert_exporter": "python",
   "pygments_lexer": "ipython3",
   "version": "3.12.9"
  }
 },
 "nbformat": 4,
 "nbformat_minor": 2
}
